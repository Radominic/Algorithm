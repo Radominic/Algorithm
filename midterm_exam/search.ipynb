{
 "cells": [
  {
   "cell_type": "code",
   "execution_count": 14,
   "metadata": {},
   "outputs": [],
   "source": [
    "#linear search\n",
    "def linear_search(A,v):\n",
    "    index = -1\n",
    "    for i in range(len(A)):\n",
    "        if v == A[i]:\n",
    "            index = i\n",
    "            break\n",
    "            \n",
    "    if index != -1:\n",
    "        print(\"index : \",index)\n",
    "    else:\n",
    "        print(\"NILL\")"
   ]
  },
  {
   "cell_type": "code",
   "execution_count": 18,
   "metadata": {},
   "outputs": [
    {
     "name": "stdout",
     "output_type": "stream",
     "text": [
      "NILL\n"
     ]
    }
   ],
   "source": [
    "A = [1,5,3,7,4,8,98,4513,55,6,]\n",
    "linear_search(A,77)"
   ]
  },
  {
   "cell_type": "code",
   "execution_count": 65,
   "metadata": {},
   "outputs": [],
   "source": [
    "#binary search\n",
    "\n",
    "\n",
    "def binary_search(A,v):\n",
    "    start = 0\n",
    "    end = len(A)-1\n",
    "    while(start<=end):\n",
    "        mid = int((start+end)/2)\n",
    "        if(A[mid]<v):\n",
    "            start = mid+1\n",
    "        elif(A[mid]>v):\n",
    "            end = mid-1\n",
    "        else:\n",
    "            return mid \n",
    "    return \"NIL\""
   ]
  },
  {
   "cell_type": "code",
   "execution_count": 73,
   "metadata": {},
   "outputs": [
    {
     "name": "stdout",
     "output_type": "stream",
     "text": [
      "5\n"
     ]
    }
   ],
   "source": [
    "A =  [1, 3, 4, 5, 6, 7, 8, 55, 98, 4513]\n",
    "\n",
    "print(binary_search(A,7))"
   ]
  },
  {
   "cell_type": "code",
   "execution_count": 140,
   "metadata": {},
   "outputs": [],
   "source": [
    "#kadane maximum sub array\n",
    "\n",
    "def kadane_max(A):\n",
    "    tempSum = 0\n",
    "    max_left = 0\n",
    "    max_right = 0\n",
    "    maxSum = -999\n",
    "    for i in range(-1,len(A)-1):\n",
    "        tempSum = max(tempSum + A[i+1], A[i+1])\n",
    "        if tempSum == A[i+1]:\n",
    "            max_left = i+1\n",
    "        \n",
    "        maxSum = max(tempSum , maxSum)\n",
    "        if maxSum == tempSum:\n",
    "            max_right = i+1\n",
    "            \n",
    "    return max_left, max_right, maxSum"
   ]
  },
  {
   "cell_type": "code",
   "execution_count": 141,
   "metadata": {},
   "outputs": [
    {
     "data": {
      "text/plain": [
       "(0, 7, 10)"
      ]
     },
     "execution_count": 141,
     "metadata": {},
     "output_type": "execute_result"
    }
   ],
   "source": [
    "A = [4,-1,3,-2,4,-1,2,1,-5,4]\n",
    "\n",
    "kadane_max(A)"
   ]
  },
  {
   "cell_type": "code",
   "execution_count": null,
   "metadata": {},
   "outputs": [],
   "source": []
  }
 ],
 "metadata": {
  "kernelspec": {
   "display_name": "Python 3",
   "language": "python",
   "name": "python3"
  },
  "language_info": {
   "codemirror_mode": {
    "name": "ipython",
    "version": 3
   },
   "file_extension": ".py",
   "mimetype": "text/x-python",
   "name": "python",
   "nbconvert_exporter": "python",
   "pygments_lexer": "ipython3",
   "version": "3.7.7"
  }
 },
 "nbformat": 4,
 "nbformat_minor": 4
}
