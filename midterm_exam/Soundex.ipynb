{
 "cells": [
  {
   "cell_type": "code",
   "execution_count": 14,
   "metadata": {},
   "outputs": [],
   "source": [
    "def soundex(name):\n",
    "\n",
    "\n",
    "    \"\"\"\n",
    "    The Soundex algorithm assigns a 1-letter + 3-digit code to strings,\n",
    "    the intention being that strings pronounced the same but spelled\n",
    "    differently have identical encodings; words pronounced similarly\n",
    "    should have similar encodings.\n",
    "    \"\"\"\n",
    "\n",
    "    soundexcoding = [' ', ' ', ' ', ' ']\n",
    "    soundexcodingindex = 1\n",
    "\n",
    "    #           ABCDEFGHIJKLMNOPQRSTUVWXYZ\n",
    "    mappings = \"01230120022455012623010202\"\n",
    "\n",
    "    soundexcoding[0] = name[0].upper()\n",
    "\n",
    "    for i in range(1, len(name)):\n",
    "\n",
    "         c = ord(name[i].upper()) - 65\n",
    "\n",
    "         if c >= 0 and c <= 25:\n",
    "\n",
    "             if mappings[c] != '0':\n",
    "\n",
    "                 if mappings[c] != soundexcoding[soundexcodingindex-1]:\n",
    "\n",
    "                     soundexcoding[soundexcodingindex] = mappings[c]\n",
    "                     soundexcodingindex += 1\n",
    "                 '''\n",
    "                 if soundexcodingindex > 3:\n",
    "\n",
    "                     break\n",
    "                 '''\n",
    "    print(soundexcoding)\n",
    "    if soundexcodingindex <= 3:\n",
    "        while(soundexcodingindex <= 3):\n",
    "            soundexcoding[soundexcodingindex] = '0'\n",
    "            soundexcodingindex += 1\n",
    "\n",
    "    return ''.join(soundexcoding)"
   ]
  },
  {
   "cell_type": "code",
   "execution_count": 15,
   "metadata": {},
   "outputs": [
    {
     "name": "stdout",
     "output_type": "stream",
     "text": [
      "['G', '5', '2', '5']\n"
     ]
    },
    {
     "data": {
      "text/plain": [
       "'G525'"
      ]
     },
     "execution_count": 15,
     "metadata": {},
     "output_type": "execute_result"
    }
   ],
   "source": [
    "soundex('gangmin')"
   ]
  },
  {
   "cell_type": "code",
   "execution_count": null,
   "metadata": {},
   "outputs": [],
   "source": []
  }
 ],
 "metadata": {
  "kernelspec": {
   "display_name": "Python 3",
   "language": "python",
   "name": "python3"
  },
  "language_info": {
   "codemirror_mode": {
    "name": "ipython",
    "version": 3
   },
   "file_extension": ".py",
   "mimetype": "text/x-python",
   "name": "python",
   "nbconvert_exporter": "python",
   "pygments_lexer": "ipython3",
   "version": "3.7.7"
  }
 },
 "nbformat": 4,
 "nbformat_minor": 4
}
