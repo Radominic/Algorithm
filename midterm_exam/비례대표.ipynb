{
 "cells": [
  {
   "cell_type": "code",
   "execution_count": 150,
   "metadata": {},
   "outputs": [],
   "source": [
    "def compute_proportional_rate_seats_count(a,b):\n",
    "    # a 는 정당 별 지역구 의석\n",
    "    # b 는 정당 별 비례대표 득표율\n",
    "    n = len(b)\n",
    "    p_seat_count = compute_mixed_member_proportional_seats_count(a,b)\n",
    "    j_seat_count = compute_mixed_member_majoritarian_seats_count(a,b)\n",
    "    total_seats_count = []\n",
    "    print(p_seat_count)\n",
    "    print(j_seat_count)\n",
    "    for i in range(n):\n",
    "        total_seats_count.append(p_seat_count[i]+j_seat_count[i])\n",
    "    return total_seats_count\n",
    "    \n",
    "    \n",
    "    \n",
    "def compute_mixed_member_proportional_seats_count(a,b):\n",
    "    no_rec = 0\n",
    "    check = []\n",
    "    p_counts1 = []\n",
    "    for i in range(len(a)):\n",
    "        check.append(party_above_election_threshold(a[i],b[i]))\n",
    "        if False == check[i]:\n",
    "            no_rec += a[i]\n",
    "    for i in range(len(a)):\n",
    "        if check[i] == True:\n",
    "            p_counts1.append(round(max(0,((300-no_rec-5)*b[i]-a[i])/2),4))\n",
    "        else:\n",
    "            p_counts1.append(0)\n",
    "    print(sum(p_counts1))\n",
    "    return p_counts1\n",
    "\n",
    "def compute_mixed_member_majoritarian_seats_count(a,b):\n",
    "    j1=[]\n",
    "    j2=[]\n",
    "    j3=[]\n",
    "    j4=[]\n",
    "    for i in range(len(a)):\n",
    "        j1.append(17*b[i])\n",
    "        j2.append(int(j1[i]))\n",
    "        j3.append(j1[i]-j2[i])\n",
    "    sumj = 0\n",
    "    print('j')\n",
    "    print(j1)\n",
    "    print(sum(j1))\n",
    "    print(j2)\n",
    "    print(sum(j2))\n",
    "    print(j3)\n",
    "    print(sum(j3))\n",
    "    for i in range(len(a)):\n",
    "        j4.append(j2[i])\n",
    "        sumj += j2[i]\n",
    "    \n",
    "    sumj = 17 - sumj\n",
    "    for i in range(sumj):\n",
    "        index = k_th_rank_index(j3,i)\n",
    "        j4[index] +=1\n",
    "    print(j4)\n",
    "    print(sum(j4))\n",
    "    return j4\n",
    "def k_th_rank_index(arr,i):\n",
    "    temp = arr\n",
    "    temp = sorted(arr,reverse = True)\n",
    "    return arr.index(temp[i])"
   ]
  },
  {
   "cell_type": "code",
   "execution_count": 164,
   "metadata": {},
   "outputs": [],
   "source": [
    "a = [0,163,84,0,1,5]\n",
    "b = [0.0679,0.3335,0.3384,0.0542,0.0967,0]"
   ]
  },
  {
   "cell_type": "code",
   "execution_count": 165,
   "metadata": {},
   "outputs": [
    {
     "name": "stdout",
     "output_type": "stream",
     "text": [
      "39.6869\n",
      "[10.0152, 0, 7.914, 7.9945, 13.7632, 0]\n",
      "10\n",
      "0\n",
      "8\n",
      "8\n",
      "14\n",
      "0\n",
      "40\n"
     ]
    }
   ],
   "source": [
    "arr =compute_mixed_member_proportional_seats_count(a,b)\n",
    "print(arr)\n",
    "s = 0\n",
    "for i in arr:\n",
    "    print(round(i))\n",
    "    s  += round(i)\n",
    "print(s)"
   ]
  },
  {
   "cell_type": "code",
   "execution_count": 172,
   "metadata": {},
   "outputs": [
    {
     "name": "stdout",
     "output_type": "stream",
     "text": [
      "[7.5, 0.0, 6.0, 6.0, 10.5, 0.0]\n"
     ]
    },
    {
     "data": {
      "text/plain": [
       "30.0"
      ]
     },
     "execution_count": 172,
     "metadata": {},
     "output_type": "execute_result"
    }
   ],
   "source": [
    "p=[]\n",
    "r=[10,0,8,8,14,0]\n",
    "for i in range(len(r)):\n",
    "    p.append(30*r[i]/sum(r))\n",
    "print(p)\n",
    "sum(p)"
   ]
  },
  {
   "cell_type": "code",
   "execution_count": 167,
   "metadata": {},
   "outputs": [
    {
     "name": "stdout",
     "output_type": "stream",
     "text": [
      "39.6869\n",
      "j\n",
      "[1.1543, 5.6695, 5.7528, 0.9214, 1.6439, 0]\n",
      "15.1419\n",
      "[1, 5, 5, 0, 1, 0]\n",
      "12\n",
      "[0.1543000000000001, 0.6695000000000002, 0.7527999999999997, 0.9214, 0.6438999999999999, 0]\n",
      "3.1419\n",
      "[2, 6, 6, 1, 2, 0]\n",
      "17\n",
      "[10.0152, 0, 7.914, 7.9945, 13.7632, 0]\n",
      "[2, 6, 6, 1, 2, 0]\n"
     ]
    },
    {
     "data": {
      "text/plain": [
       "[12.0152, 6, 13.914, 8.9945, 15.7632, 0]"
      ]
     },
     "execution_count": 167,
     "metadata": {},
     "output_type": "execute_result"
    }
   ],
   "source": [
    "compute_proportional_rate_seats_count(a,b)"
   ]
  },
  {
   "cell_type": "code",
   "execution_count": 80,
   "metadata": {},
   "outputs": [],
   "source": [
    "def party_above_election_threshold(district,proportion):\n",
    "    check = True\n",
    "    if district<5 and proportion < 0.03:\n",
    "        check = False\n",
    "    return check"
   ]
  },
  {
   "cell_type": "code",
   "execution_count": 81,
   "metadata": {},
   "outputs": [
    {
     "name": "stdout",
     "output_type": "stream",
     "text": [
      "True\n",
      "True\n",
      "True\n",
      "True\n",
      "False\n"
     ]
    }
   ],
   "source": [
    "for i in range(len(a)):\n",
    "    print(party_above_election_threshold(a[i],b[i]))\n",
    "        "
   ]
  },
  {
   "cell_type": "code",
   "execution_count": 100,
   "metadata": {},
   "outputs": [
    {
     "ename": "SyntaxError",
     "evalue": "unexpected EOF while parsing (<ipython-input-100-b876cb14cdcd>, line 2)",
     "output_type": "error",
     "traceback": [
      "\u001b[0;36m  File \u001b[0;32m\"<ipython-input-100-b876cb14cdcd>\"\u001b[0;36m, line \u001b[0;32m2\u001b[0m\n\u001b[0;31m    \u001b[0m\n\u001b[0m    ^\u001b[0m\n\u001b[0;31mSyntaxError\u001b[0m\u001b[0;31m:\u001b[0m unexpected EOF while parsing\n"
     ]
    }
   ],
   "source": [
    "def adjusted(a,b,p_counts):\n",
    "    n = len(a)\n",
    "    \n",
    "    "
   ]
  },
  {
   "cell_type": "code",
   "execution_count": 101,
   "metadata": {},
   "outputs": [],
   "source": [
    "p_counts=[13,12,8,10,0]"
   ]
  },
  {
   "cell_type": "code",
   "execution_count": null,
   "metadata": {},
   "outputs": [],
   "source": []
  }
 ],
 "metadata": {
  "kernelspec": {
   "display_name": "Python 3",
   "language": "python",
   "name": "python3"
  },
  "language_info": {
   "codemirror_mode": {
    "name": "ipython",
    "version": 3
   },
   "file_extension": ".py",
   "mimetype": "text/x-python",
   "name": "python",
   "nbconvert_exporter": "python",
   "pygments_lexer": "ipython3",
   "version": "3.7.7"
  }
 },
 "nbformat": 4,
 "nbformat_minor": 4
}
