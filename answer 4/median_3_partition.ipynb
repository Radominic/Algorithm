{
 "cells": [
  {
   "cell_type": "code",
   "execution_count": 45,
   "metadata": {},
   "outputs": [],
   "source": [
    "def partition(A,p,r):\n",
    "    x= A[r]\n",
    "    i = p-1\n",
    "    for j in range(p,r):\n",
    "        if A[j]<=x:\n",
    "            i +=1\n",
    "            A = exchange(A,i,j)\n",
    "            print(A)\n",
    "    exchange(A,i+1,r)\n",
    "    return i+1\n",
    "            \n",
    "def exchange(A,i,j):\n",
    "    temp = A[i]\n",
    "    A[i] = A[j]\n",
    "    A[j] = temp\n",
    "    return A"
   ]
  },
  {
   "cell_type": "code",
   "execution_count": 46,
   "metadata": {},
   "outputs": [
    {
     "name": "stdout",
     "output_type": "stream",
     "text": [
      "[6, 18, 0, 10, 4, 16, 4, 1, 25, 16, 11, 8]\n",
      "[6, 0, 18, 10, 4, 16, 4, 1, 25, 16, 11, 8]\n",
      "[6, 0, 4, 10, 18, 16, 4, 1, 25, 16, 11, 8]\n",
      "[6, 0, 4, 4, 18, 16, 10, 1, 25, 16, 11, 8]\n",
      "[6, 0, 4, 4, 1, 16, 10, 18, 25, 16, 11, 8]\n"
     ]
    },
    {
     "data": {
      "text/plain": [
       "5"
      ]
     },
     "execution_count": 46,
     "metadata": {},
     "output_type": "execute_result"
    }
   ],
   "source": [
    "A = [6,18,0,10,4,16,4,1,25,16,11,8]\n",
    "partition(A,0,len(A)-1)"
   ]
  },
  {
   "cell_type": "code",
   "execution_count": 47,
   "metadata": {},
   "outputs": [
    {
     "data": {
      "text/plain": [
       "[6, 0, 4, 4, 1, 8, 10, 18, 25, 16, 11, 16]"
      ]
     },
     "execution_count": 47,
     "metadata": {},
     "output_type": "execute_result"
    }
   ],
   "source": [
    "A"
   ]
  },
  {
   "cell_type": "code",
   "execution_count": 90,
   "metadata": {},
   "outputs": [],
   "source": [
    "def partition(A,p,r):\n",
    "    \n",
    "    mid = int((p+r)/2)\n",
    "    \n",
    "    A = threeSort(A,p,mid,r)\n",
    "        \n",
    "    x= A[mid]\n",
    "    A = exchange(A,mid,r-1)\n",
    "    \n",
    "    i = p-1\n",
    "    for j in range(p,r-1):\n",
    "        if A[j]<=x:\n",
    "            i +=1\n",
    "            A = exchange(A,i,j)\n",
    "    exchange(A,i+1,r-1)\n",
    "    print(A)\n",
    "    \n",
    "    \n",
    "    return i+1\n",
    "\n",
    "def threeSort(A,first,mid,last):\n",
    "    if A[first] > A[mid]:\n",
    "        exchange(A,first,mid)\n",
    "    if A[first] > A[last]:\n",
    "        exchange(A,fist,last)\n",
    "    if A[mid] > A[last]:\n",
    "        exchange(A,mid,last)\n",
    "    return A\n",
    "\n",
    "\n",
    "def exchange(A,i,j):\n",
    "    temp = A[i]\n",
    "    A[i] = A[j]\n",
    "    A[j] = temp\n",
    "    return A"
   ]
  },
  {
   "cell_type": "code",
   "execution_count": 91,
   "metadata": {},
   "outputs": [
    {
     "name": "stdout",
     "output_type": "stream",
     "text": [
      "[6, 0, 4, 4, 1, 8, 10, 18, 25, 16, 11, 16]\n"
     ]
    },
    {
     "data": {
      "text/plain": [
       "5"
      ]
     },
     "execution_count": 91,
     "metadata": {},
     "output_type": "execute_result"
    }
   ],
   "source": [
    "A = [6,18,0,10,4,16,4,1,25,16,11,8]\n",
    "partition(A,0,len(A)-1)"
   ]
  },
  {
   "cell_type": "code",
   "execution_count": 89,
   "metadata": {},
   "outputs": [
    {
     "data": {
      "text/plain": [
       "[6, 0, 4, 4, 1, 8, 10, 18, 25, 16, 11, 16]"
      ]
     },
     "execution_count": 89,
     "metadata": {},
     "output_type": "execute_result"
    }
   ],
   "source": [
    "A"
   ]
  },
  {
   "cell_type": "code",
   "execution_count": null,
   "metadata": {},
   "outputs": [],
   "source": []
  }
 ],
 "metadata": {
  "kernelspec": {
   "display_name": "Python 3",
   "language": "python",
   "name": "python3"
  },
  "language_info": {
   "codemirror_mode": {
    "name": "ipython",
    "version": 3
   },
   "file_extension": ".py",
   "mimetype": "text/x-python",
   "name": "python",
   "nbconvert_exporter": "python",
   "pygments_lexer": "ipython3",
   "version": "3.7.7"
  }
 },
 "nbformat": 4,
 "nbformat_minor": 4
}
